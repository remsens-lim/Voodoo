{
 "cells": [
  {
   "cell_type": "code",
   "execution_count": 1,
   "id": "cf743338",
   "metadata": {},
   "outputs": [],
   "source": [
    "import os\n",
    "import warnings\n",
    "import pprint\n",
    "\n",
    "import xarray as xr\n",
    "import numpy as np\n",
    "import toml\n",
    "import torch\n",
    "from scipy.ndimage import gaussian_filter, gaussian_filter1d\n",
    "\n",
    "import Voodoo.TorchModel as TM\n",
    "\n",
    "import matplotlib\n",
    "import matplotlib.pyplot as plt\n",
    "import matplotlib.dates as mdates\n",
    "# show quicklook \n",
    "%matplotlib inline\n",
    "\n",
    "warnings.filterwarnings(\"ignore\")\n",
    "\n",
    "NCLASSES = 3\n",
    "p = 0.5\n"
   ]
  },
  {
   "cell_type": "code",
   "execution_count": null,
   "id": "9d297857",
   "metadata": {},
   "outputs": [],
   "source": []
  },
  {
   "cell_type": "code",
   "execution_count": 2,
   "id": "8d513d82",
   "metadata": {
    "scrolled": true
   },
   "outputs": [],
   "source": [
    "data_path = 'example_data/KAZR/nsakazrspeccmaskgecopolC1.a0.20190127.040010.cdf'\n",
    "\n",
    "data = xr.open_mfdataset(data_path)\n",
    "data['time'] = data['time_offset'].values + np.timedelta64(4,'h')"
   ]
  },
  {
   "cell_type": "code",
   "execution_count": 3,
   "id": "b950c665",
   "metadata": {},
   "outputs": [],
   "source": [
    "hsrl = xr.open_mfdataset('example_data/KAZR/nsahsrlC1.a1.20190127.000000.nc')\n",
    "\n",
    "#hsrl = hsrl.sel(time=slice(data['time_offset'][0].values, data['time_offset'][-1].values))\n",
    "backscatter = hsrl['beta_a_backscatter']\n",
    "depol = hsrl['depol']"
   ]
  },
  {
   "cell_type": "code",
   "execution_count": null,
   "id": "bb18dec8",
   "metadata": {},
   "outputs": [],
   "source": []
  },
  {
   "cell_type": "code",
   "execution_count": null,
   "id": "dad1a135",
   "metadata": {},
   "outputs": [],
   "source": []
  },
  {
   "cell_type": "code",
   "execution_count": null,
   "id": "20fa4164",
   "metadata": {},
   "outputs": [],
   "source": []
  },
  {
   "cell_type": "code",
   "execution_count": 4,
   "id": "fa0d3087",
   "metadata": {},
   "outputs": [],
   "source": [
    "# get nonzero mask\n",
    "nonzeros_mask = data['locator_mask'].values > -1"
   ]
  },
  {
   "cell_type": "code",
   "execution_count": 5,
   "id": "0f97c1d9",
   "metadata": {},
   "outputs": [
    {
     "name": "stdout",
     "output_type": "stream",
     "text": [
      "-98.182816 -45.670033\n",
      "0.051919557 1.5522848\n"
     ]
    },
    {
     "data": {
      "image/png": "[encoded data removed]",
      "text/plain": [
       "<Figure size 432x288 with 1 Axes>"
      ]
     },
     "metadata": {
      "needs_background": "light"
     },
     "output_type": "display_data"
    }
   ],
   "source": [
    "# show spectra quicklook + normalize\n",
    "spectra_orig = np.flip(data['spectra'].values.copy(), axis=1)\n",
    "spectra_orig = gaussian_filter1d(spectra_orig, sigma=1)\n",
    "\n",
    "print(spectra_orig.min(), spectra_orig.max())\n",
    "\n",
    "# normalize between 0 and 1\n",
    "\n",
    "v_min = -100\n",
    "v_max = -65\n",
    "spectra_norm = (spectra_orig - v_min) / (v_max - v_min)\n",
    "plt.plot(spectra_norm[1000, :])\n",
    "\n",
    "print(spectra_norm.min(), spectra_norm.max())"
   ]
  },
  {
   "cell_type": "code",
   "execution_count": 6,
   "id": "834c769a",
   "metadata": {},
   "outputs": [],
   "source": [
    "X = np.zeros((spectra_norm.shape)+(6,))\n",
    "for i in range(spectra_norm.shape[0]):\n",
    "    for j in range(6):\n",
    "        X[i, :, j] = spectra_norm[i, :]"
   ]
  },
  {
   "cell_type": "code",
   "execution_count": null,
   "id": "592486e0",
   "metadata": {},
   "outputs": [],
   "source": []
  },
  {
   "cell_type": "code",
   "execution_count": 7,
   "id": "0acf76b2",
   "metadata": {},
   "outputs": [
    {
     "ename": "NameError",
     "evalue": "name 'Loader' is not defined",
     "output_type": "error",
     "traceback": [
      "\u001b[0;31m---------------------------------------------------------------------------\u001b[0m",
      "\u001b[0;31mNameError\u001b[0m                                 Traceback (most recent call last)",
      "\u001b[0;32m<ipython-input-7-48b83df20b65>\u001b[0m in \u001b[0;36m<module>\u001b[0;34m\u001b[0m\n\u001b[0;32m----> 1\u001b[0;31m \u001b[0mprediction\u001b[0m \u001b[0;34m=\u001b[0m \u001b[0mLoader\u001b[0m\u001b[0;34m.\u001b[0m\u001b[0mVoodooPredictor\u001b[0m\u001b[0;34m(\u001b[0m\u001b[0mX\u001b[0m\u001b[0;34m)\u001b[0m\u001b[0;34m\u001b[0m\u001b[0;34m\u001b[0m\u001b[0m\n\u001b[0m",
      "\u001b[0;31mNameError\u001b[0m: name 'Loader' is not defined"
     ]
    }
   ],
   "source": [
    "prediction = Loader.VoodooPredictor(X)"
   ]
  },
  {
   "cell_type": "code",
   "execution_count": null,
   "id": "ceeab962",
   "metadata": {},
   "outputs": [],
   "source": [
    "prediction_smoothed = np.zeros(nonzeros_mask.shape)\n",
    "_tmp = TM.VoodooNet.reshape(prediction[:, 1], ~nonzeros_mask)\n",
    "_tmp = gaussian_filter(_tmp, sigma=2)\n",
    "prediction_smoothed = np.ma.masked_where(~nonzeros_mask, _tmp)\n",
    "    "
   ]
  },
  {
   "cell_type": "code",
   "execution_count": null,
   "id": "c19e04c9",
   "metadata": {},
   "outputs": [],
   "source": []
  },
  {
   "cell_type": "code",
   "execution_count": null,
   "id": "d2720bcb",
   "metadata": {},
   "outputs": [],
   "source": []
  },
  {
   "cell_type": "code",
   "execution_count": null,
   "id": "f1462f2e",
   "metadata": {},
   "outputs": [],
   "source": [
    "# compute fake Z (sum of spectra)\n",
    "fake_Z = TM.VoodooNet.reshape3d(data['spectra'].values, ~nonzeros_mask)\n",
    "fake_Z = np.ma.masked_where(~nonzeros_mask, np.sum(10**(fake_Z/10), axis=2)).T\n",
    "fake_Z = 10*np.log10(fake_Z)\n",
    "print(fake_Z.min(), fake_Z.max())"
   ]
  },
  {
   "cell_type": "code",
   "execution_count": null,
   "id": "9650ff67",
   "metadata": {
    "scrolled": true
   },
   "outputs": [],
   "source": [
    "\n",
    "with plt.style.context(['science', 'ieee']):\n",
    "    fig, ax = plt.subplots(ncols=4, figsize=(14, 3))\n",
    "\n",
    "    # fake Z\n",
    "    pcmesh0 = ax[0].pcolormesh(\n",
    "        data['time_offset'].values,\n",
    "        data['range'].values,    \n",
    "        fake_Z,\n",
    "        cmap='jet',\n",
    "        vmin=fake_Z.min(), vmax=fake_Z.max(),\n",
    "    )\n",
    "    ax[0].set_title('fake Z (sum of power spectra)')\n",
    "\n",
    "    # probability for liquid cloud droplets\n",
    "    pcmesh1 = ax[1].pcolormesh(\n",
    "        data['time_offset'].values,\n",
    "        data['range'].values,    \n",
    "        np.ma.masked_where(~nonzeros_mask, prediction_smoothed).T, \n",
    "        cmap=UT.probability_cmap,\n",
    "        vmin=0.5, vmax=1\n",
    "    )\n",
    "    ax[1].set_title('Voodoo output - probabiltiy for cloud droplets')\n",
    "\n",
    "    # hsrl backscatter\n",
    "    pcmesh2 = ax[2].pcolormesh(\n",
    "        backscatter['time'].values,\n",
    "        backscatter['range'].values,    \n",
    "        np.log10(backscatter.values).T, \n",
    "        cmap='jet', \n",
    "        #vmin=0.9, vmax=1\n",
    "    )\n",
    "    ax[2].set_title('HSRL backscatter coef.')\n",
    "\n",
    "    # hsrl depol\n",
    "    pcmesh3 = ax[3].pcolormesh(\n",
    "        depol['time'].values,\n",
    "        depol['range'].values,    \n",
    "        depol.values.T, \n",
    "        cmap='jet', \n",
    "        vmin=0., vmax=0.2\n",
    "    )\n",
    "    ax[3].set_title('HSRL depol')\n",
    "\n",
    "    for iax, pcmesh in zip(ax, [pcmesh0, pcmesh1, pcmesh2, pcmesh3]):\n",
    "        cbar = fig.colorbar(pcmesh, ax=iax, fraction=0.05, orientation='horizontal', pad=0.15)    \n",
    "        iax.set_ylim([0, 3500])\n",
    "        iax.xaxis.set_major_formatter(mdates.DateFormatter('%H:%M'))\n",
    "\n",
    "    for iax in ax[2:]:    \n",
    "        iax.set_xlim([data['time'][0].values, data['time'][-1].values])\n",
    "\n",
    "    fig.savefig('test.png', facecolor='white')"
   ]
  },
  {
   "cell_type": "code",
   "execution_count": null,
   "id": "8f7b1619",
   "metadata": {},
   "outputs": [],
   "source": []
  },
  {
   "cell_type": "code",
   "execution_count": null,
   "id": "bdedfffd",
   "metadata": {},
   "outputs": [],
   "source": []
  },
  {
   "cell_type": "code",
   "execution_count": null,
   "id": "1f6b4fd6",
   "metadata": {},
   "outputs": [],
   "source": [
    "a=5"
   ]
  },
  {
   "cell_type": "code",
   "execution_count": null,
   "id": "0c0cb191",
   "metadata": {},
   "outputs": [],
   "source": []
  }
 ],
 "metadata": {
  "kernelspec": {
   "display_name": "Python 3",
   "language": "python",
   "name": "python3"
  },
  "language_info": {
   "codemirror_mode": {
    "name": "ipython",
    "version": 3
   },
   "file_extension": ".py",
   "mimetype": "text/x-python",
   "name": "python",
   "nbconvert_exporter": "python",
   "pygments_lexer": "ipython3",
   "version": "3.6.7"
  }
 },
 "nbformat": 4,
 "nbformat_minor": 5
}
