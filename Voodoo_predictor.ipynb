{
 "cells": [
  {
   "cell_type": "code",
   "execution_count": 1,
   "id": "8853083b",
   "metadata": {},
   "outputs": [],
   "source": [
    "import os\n",
    "import warnings\n",
    "import pprint\n",
    "\n",
    "import xarray as xr\n",
    "import numpy as np\n",
    "import toml\n",
    "import torch\n",
    "from scipy.ndimage import gaussian_filter, gaussian_filter1d\n",
    "\n",
    "import libVoodoo.TorchModel as TM\n",
    "import libVoodoo.Loader as Loader\n",
    "\n",
    "import matplotlib\n",
    "import matplotlib.pyplot as plt\n",
    "%matplotlib inline\n",
    "\n",
    "warnings.filterwarnings(\"ignore\")\n",
    "\n",
    "NCLASSES = 3\n",
    "p = 0.4\n",
    "\n",
    "model_setup_file = f'VnetSettings-1.toml'\n",
    "torch_settings = toml.load(os.path.join(model_setup_file))['pytorch']"
   ]
  },
  {
   "cell_type": "code",
   "execution_count": null,
   "id": "091d09ea",
   "metadata": {},
   "outputs": [],
   "source": []
  },
  {
   "cell_type": "code",
   "execution_count": 2,
   "id": "ca0b911b",
   "metadata": {},
   "outputs": [],
   "source": [
    "import datetime\n",
    "def dt_to_ts(dt):\n",
    "    \"\"\"datetime to unix timestamp\"\"\"\n",
    "    # return dt.replace(tzinfo=datetime.timezone.utc).timestamp()\n",
    "    return (dt - datetime.datetime(1970, 1, 1)).total_seconds()\n",
    "\n",
    "def get_unixtime(dt64):\n",
    "    return dt64.astype('datetime64[s]').astype('int')\n",
    "\n",
    "def ts_to_dt(ts):\n",
    "    \"\"\"unix timestamp to dt\"\"\"\n",
    "    return datetime.datetime.utcfromtimestamp(ts)\n",
    "\n",
    "def decimalhour2unix(dt, time):\n",
    "    return np.array([x*3600. + dt_to_ts(datetime.datetime(int(dt[:4]), int(dt[4:6]), int(dt[6:]), 0, 0, 0)) for x in time]).astype(int).astype( 'datetime64[s]')\n",
    "\n",
    "def lin2z(array):\n",
    "    \"\"\"linear values to dB (for np.array or single number)\"\"\"\n",
    "    return 10 * np.ma.log10(array)\n",
    "\n",
    "def open_xarray_datasets(path):\n",
    "    import re\n",
    "    ds = xr.open_mfdataset(path, parallel=True, decode_times=False, )\n",
    "    x = re.findall(\"\\d{8}\", path)[0]\n",
    "    # convert time to unix\n",
    "    ds = ds.assign_coords(time = decimalhour2unix(str(x), ds['time'].values))\n",
    "    ds['time'].attrs['units'] = 'Unix Time: Seconds since January 1st, 1970'\n",
    "\n",
    "\n",
    "    return ds"
   ]
  },
  {
   "cell_type": "code",
   "execution_count": 3,
   "id": "7df9b677",
   "metadata": {},
   "outputs": [],
   "source": [
    "def VoodooPredictor(X):\n",
    "    \"\"\"\n",
    "    Predict probability disribution over discrete set of 3 classes (dummy, CD, non-CD) .\n",
    "    \n",
    "    Args:\n",
    "        X: list of [256, 6, 1] time spectrograms, dimensitons: (N_Doppler_bins, N_time_steps, N_range_gate)\n",
    "        \n",
    "        \n",
    "    Return:\n",
    "        predicitons: list of predictions \n",
    "    \"\"\"\n",
    "    torch_settings.update({'dev': 'cpu'})\n",
    "    #trained_model = 'Vnet0x60de1687-fnX-gpu0-VN.pt' \n",
    "    trained_model = 'Vnet0x615580bf-fn1-gpu0-VN.pt'\n",
    "\n",
    "    print(f'Loading Vnet model ...... {model_setup_file}')\n",
    "\n",
    "    # (n_samples, n_Doppler_bins, n_time_steps)\n",
    "    X = X[:, :, :, np.newaxis]\n",
    "    X = X.transpose(0, 3, 2, 1)\n",
    "    X_test = torch.Tensor(X)\n",
    "\n",
    "    model = TM.VoodooNet(X_test.shape, NCLASSES, **torch_settings)\n",
    "    model.load_state_dict(torch.load(trained_model, map_location=model.device)['state_dict'])\n",
    "\n",
    "    prediction = model.predict(X_test, batch_size=256)\n",
    "    prediction = prediction.to('cpu')\n",
    "    return prediction"
   ]
  },
  {
   "cell_type": "code",
   "execution_count": 4,
   "id": "e18eacfe",
   "metadata": {},
   "outputs": [
    {
     "data": {
      "text/plain": [
       "'/Users/willi/code/python/voodoo_release/Voodoo'"
      ]
     },
     "execution_count": 4,
     "metadata": {},
     "output_type": "execute_result"
    }
   ],
   "source": [
    "os.getcwd()"
   ]
  },
  {
   "cell_type": "markdown",
   "id": "9491c8f7",
   "metadata": {},
   "source": [
    "# KAZR test"
   ]
  },
  {
   "cell_type": "code",
   "execution_count": 5,
   "id": "ce969458",
   "metadata": {},
   "outputs": [],
   "source": [
    "#Z_min, Z_max = -100, -50\n",
    "#data_path = 'example_data/KAZR/'\n",
    "#spectra_file_name = 'nsakazrspeccmaskgecopolC1.a0.20190127.050006.cdf'\n",
    "#lidar_file_name = 'nsahsrlC1.a1.20190127.000000.nc'\n",
    "\n",
    "\n",
    "#data = xr.open_mfdataset(data_path+spectra_file_name)\n",
    "#data['time'] = data['time_offset']# integral of spectral bin power\n",
    "\n",
    "## get nonzero mask\n",
    "#nonzeros_mask = data['locator_mask'].values > -1\n",
    "\n",
    "#fake_Z = TM.VoodooNet.reshape3d(data['spectra'].values, ~nonzeros_mask)\n",
    "#fake_Z = np.ma.masked_where(~nonzeros_mask, np.sum(10**(fake_Z/10), axis=2)).T\n",
    "#fake_Z = 10*np.log10(fake_Z)\n",
    "#print(fake_Z.min(), fake_Z.max())\n",
    "\n",
    "#data['spectra']\n",
    "#spectra_list = data['spectra'].values.copy()\n",
    "#spectra_list = gaussian_filter1d(data['spectra'].values.copy(), sigma=1)\n",
    "#spectra_list = gaussian_filter1d(data['spectra'].values.copy(), sigma=2)\n",
    "\n",
    "## normalize between 0 and 1\n",
    "#spectra_norm = (spectra_list - Z_min) / (Z_max - Z_min)\n",
    "#plt.plot(spectra_norm[1000, :,])\n",
    "\n",
    "#print(spectra_norm.min(), spectra_norm.max())\n",
    "\n",
    "#X = np.zeros((spectra_norm.shape)+(6,))\n",
    "#for i in range(spectra_norm.shape[0]):\n",
    "#    for j in range(6):\n",
    "#        X[i, :, j] = spectra_norm[i, :]\n",
    "\n",
    "#hsrl = xr.open_mfdataset(data_path+lidar_file)\n",
    "#backscatter = hsrl['beta_a_backscatter'].copy()\n",
    "#backscatter = backscatter.sel(time=slice('2019-01-27T05:00:00', '2019-01-27T06:00:00'))\n",
    "#backscatter"
   ]
  },
  {
   "cell_type": "code",
   "execution_count": null,
   "id": "cd39d0df",
   "metadata": {},
   "outputs": [],
   "source": []
  },
  {
   "cell_type": "markdown",
   "id": "a4a581e6",
   "metadata": {},
   "source": [
    "# RPG-FMCW94 test"
   ]
  },
  {
   "cell_type": "code",
   "execution_count": 6,
   "id": "3be80330",
   "metadata": {},
   "outputs": [],
   "source": [
    "from rpgpy import read_rpg\n",
    "from rpgpy.spcutil import spectra2moments\n",
    "\n",
    "data_path = 'example_data/RPG-FMCW94/'\n",
    "file_name = '190801_060001_P05_ZEN.LV0'\n",
    "Z_min, Z_max = -50, 20\n",
    "cat_file_name = '20190801-punta-arenas-categorize-limrad94.nc'\n",
    "rpg_lv0_header, rpg_lv0_data = read_rpg(data_path+file_name)\n"
   ]
  },
  {
   "cell_type": "code",
   "execution_count": 7,
   "id": "11092eba",
   "metadata": {},
   "outputs": [],
   "source": [
    "moments = spectra2moments(rpg_lv0_data, rpg_lv0_header)"
   ]
  },
  {
   "cell_type": "code",
   "execution_count": null,
   "id": "69dd7529",
   "metadata": {},
   "outputs": [],
   "source": []
  },
  {
   "cell_type": "code",
   "execution_count": 8,
   "id": "4c7f9428",
   "metadata": {},
   "outputs": [
    {
     "data": {
      "text/plain": [
       "(671, 292, 256)"
      ]
     },
     "execution_count": 8,
     "metadata": {},
     "output_type": "execute_result"
    }
   ],
   "source": [
    "# replace fill values\n",
    "nonzeros_spectra = rpg_lv0_data['TotSpec'] > 0.0\n",
    "rpg_spectra_vh = Loader.replace_fill_value(rpg_lv0_data['TotSpec'], rpg_lv0_data['SLv'])\n",
    "rpg_spectra_h = Loader.replace_fill_value(rpg_lv0_data['HSpec'], rpg_lv0_data['SLh'])\n",
    "rpg_spectra_vh.shape"
   ]
  },
  {
   "cell_type": "code",
   "execution_count": 9,
   "id": "0b4159c8",
   "metadata": {},
   "outputs": [
    {
     "name": "stdout",
     "output_type": "stream",
     "text": [
      "1.8686171e-07\n",
      "2.3624246\n"
     ]
    }
   ],
   "source": [
    "print(rpg_spectra_vh.min())\n",
    "print(rpg_spectra_vh.max())"
   ]
  },
  {
   "cell_type": "code",
   "execution_count": 10,
   "id": "7c2ea2d7",
   "metadata": {},
   "outputs": [],
   "source": [
    "# time since 2001-01-01 to UNIX to numpy.datetime64\n",
    "ts_list = rpg_lv0_data['Time'] + dt_to_ts(datetime.datetime(2001, 1, 1))\n",
    "dt_list = [ts_to_dt(ts) for ts in ts_list]\n",
    "np_dt_list = np.array([np.datetime64(ts,'s') for ts in dt_list])\n",
    "t0_radar, t1_radar = np_dt_list[0], np_dt_list[-1]"
   ]
  },
  {
   "cell_type": "code",
   "execution_count": null,
   "id": "3b873e61",
   "metadata": {},
   "outputs": [],
   "source": []
  },
  {
   "cell_type": "code",
   "execution_count": 11,
   "id": "8ed0d5e3",
   "metadata": {},
   "outputs": [],
   "source": [
    "#  input categorize data\n",
    "try:\n",
    "    # slice clounet categorize file \n",
    "    cn_data = open_xarray_datasets(data_path+cat_file_name)\n",
    "    cn_data = cn_data.sel(time=slice(t0_radar, t1_radar))\n",
    "    ts_main = [get_unixtime(ts.values) for ts in cn_data['time']]\n",
    "    \n",
    "except Exception as e:\n",
    "    ts_main = np.arange(ts_list[0], ts_list[-1], 30.0)\n",
    "\n",
    "\n",
    "# preprocess spectra\n",
    "interp_var, interp_mask = Loader.hyperspectralimage(\n",
    "    ts_list,\n",
    "    rpg_spectra_vh,\n",
    "    rpg_spectra_h,\n",
    "    nonzeros_spectra,\n",
    "    6,\n",
    "    ts_main\n",
    ")\n",
    "\n",
    "interp_var.shape\n",
    "\n",
    "nonzeros_mask = (interp_mask.any(axis=3)).any(axis=2)\n",
    "spectra_orig = interp_var.copy()"
   ]
  },
  {
   "cell_type": "code",
   "execution_count": null,
   "id": "991ba6a7",
   "metadata": {},
   "outputs": [],
   "source": []
  },
  {
   "cell_type": "code",
   "execution_count": 12,
   "id": "05ccddbd",
   "metadata": {},
   "outputs": [],
   "source": [
    "spectra_list = []\n",
    "for ind_t in range(nonzeros_mask.shape[0]):\n",
    "    for ind_h in range(nonzeros_mask.shape[1]):\n",
    "        if nonzeros_mask[ind_t, ind_h]:\n",
    "            spectra_list.append(interp_var[ind_t, ind_h, :, :, 0])\n",
    "            \n",
    "spectra_list = np.array(spectra_list)\n",
    "spectra_list = lin2z(spectra_list) "
   ]
  },
  {
   "cell_type": "code",
   "execution_count": 13,
   "id": "1bd47ada",
   "metadata": {},
   "outputs": [
    {
     "name": "stdout",
     "output_type": "stream",
     "text": [
      "-0.24651217 0.7676226\n"
     ]
    },
    {
     "data": {
      "image/png": "[encoded data removed]",
      "text/plain": [
       "<Figure size 432x288 with 1 Axes>"
      ]
     },
     "metadata": {
      "needs_background": "light"
     },
     "output_type": "display_data"
    }
   ],
   "source": [
    "# normalize between 0 and 1\n",
    "spectra_norm = (spectra_list - Z_min) / (Z_max - Z_min)\n",
    "X = spectra_norm\n",
    "\n",
    "plt.pcolormesh(spectra_norm[1000, :, :])\n",
    "print(spectra_norm.min(), spectra_norm.max())"
   ]
  },
  {
   "cell_type": "code",
   "execution_count": 14,
   "id": "ed8f1cc0",
   "metadata": {},
   "outputs": [],
   "source": [
    "# slice"
   ]
  },
  {
   "cell_type": "code",
   "execution_count": null,
   "id": "f4d32e75",
   "metadata": {},
   "outputs": [],
   "source": []
  },
  {
   "cell_type": "code",
   "execution_count": null,
   "id": "e65a36eb",
   "metadata": {},
   "outputs": [],
   "source": []
  },
  {
   "cell_type": "code",
   "execution_count": null,
   "id": "7d0bf4e7",
   "metadata": {},
   "outputs": [],
   "source": []
  },
  {
   "cell_type": "code",
   "execution_count": 15,
   "id": "267ab06d",
   "metadata": {},
   "outputs": [
    {
     "name": "stdout",
     "output_type": "stream",
     "text": [
      "Loading Vnet model ...... VnetSettings-1.toml\n"
     ]
    },
    {
     "data": {
      "application/vnd.jupyter.widget-view+json": {
       "model_id": "e971f766e50540358ee6acdd36447642",
       "version_major": 2,
       "version_minor": 0
      },
      "text/plain": [
       "HBox(children=(IntProgress(value=0, layout=Layout(flex='2'), max=38), HTML(value='')), layout=Layout(display='…"
      ]
     },
     "metadata": {},
     "output_type": "display_data"
    },
    {
     "name": "stdout",
     "output_type": "stream",
     "text": [
      "\n"
     ]
    }
   ],
   "source": [
    "prediction = VoodooPredictor(X)"
   ]
  },
  {
   "cell_type": "code",
   "execution_count": null,
   "id": "d099fb26",
   "metadata": {},
   "outputs": [],
   "source": []
  },
  {
   "cell_type": "code",
   "execution_count": 16,
   "id": "91e24e25",
   "metadata": {},
   "outputs": [],
   "source": [
    "# smooth predictions\n",
    "prediction_smoothed = np.zeros((nonzeros_mask.shape)+(3,))\n",
    "for i in range(NCLASSES):\n",
    "    _tmp = TM.VoodooNet.reshape(prediction[:, i], ~nonzeros_mask)\n",
    "    _tmp = gaussian_filter(_tmp, sigma=1)\n",
    "    prediction_smoothed[:, :, i] = np.ma.masked_where(~nonzeros_mask, _tmp)\n",
    "    "
   ]
  },
  {
   "cell_type": "code",
   "execution_count": null,
   "id": "4689dcf5",
   "metadata": {},
   "outputs": [],
   "source": []
  },
  {
   "cell_type": "code",
   "execution_count": 17,
   "id": "4bf4ee0b",
   "metadata": {},
   "outputs": [],
   "source": [
    "# VOODOO cloud droplet likelyhood colorbar (viridis + grey below minimum value)\n",
    "from matplotlib import cm\n",
    "from matplotlib.colors import ListedColormap\n",
    "viridis = cm.get_cmap('viridis', 8)\n",
    "newcolors = viridis(np.linspace(0, 1, 256))\n",
    "newcolors[:1, :] = np.array([220/256, 220/256, 220/256, 1])\n",
    "p_cmap = ListedColormap(newcolors)\n",
    "\n"
   ]
  },
  {
   "cell_type": "code",
   "execution_count": null,
   "id": "b64696bf",
   "metadata": {},
   "outputs": [],
   "source": []
  },
  {
   "cell_type": "code",
   "execution_count": 18,
   "id": "12aa5c69",
   "metadata": {},
   "outputs": [
    {
     "data": {
      "text/plain": [
       "<matplotlib.collections.QuadMesh at 0x7fb37aa363c8>"
      ]
     },
     "execution_count": 18,
     "metadata": {},
     "output_type": "execute_result"
    },
    {
     "data": {
      "image/png": "[encoded data removed]",
      "text/plain": [
       "<Figure size 432x288 with 1 Axes>"
      ]
     },
     "metadata": {
      "needs_background": "light"
     },
     "output_type": "display_data"
    }
   ],
   "source": [
    "plt.pcolormesh(\n",
    "    cn_data['time'],\n",
    "    cn_data['height'],\n",
    "    np.ma.masked_where(~nonzeros_mask, prediction_smoothed[:, :, 1]).T, \n",
    "    vmin=p, vmax=1, \n",
    "    cmap=p_cmap\n",
    ")"
   ]
  },
  {
   "cell_type": "code",
   "execution_count": null,
   "id": "7554257e",
   "metadata": {
    "scrolled": true
   },
   "outputs": [],
   "source": []
  },
  {
   "cell_type": "code",
   "execution_count": null,
   "id": "70684364",
   "metadata": {},
   "outputs": [],
   "source": []
  },
  {
   "cell_type": "code",
   "execution_count": null,
   "id": "b4be6603",
   "metadata": {},
   "outputs": [],
   "source": []
  },
  {
   "cell_type": "code",
   "execution_count": null,
   "id": "4ec4ef2b",
   "metadata": {},
   "outputs": [],
   "source": []
  },
  {
   "cell_type": "code",
   "execution_count": null,
   "id": "0f0e165f",
   "metadata": {},
   "outputs": [],
   "source": []
  },
  {
   "cell_type": "code",
   "execution_count": null,
   "id": "dc03e367",
   "metadata": {},
   "outputs": [],
   "source": []
  },
  {
   "cell_type": "code",
   "execution_count": null,
   "id": "60e3cce4",
   "metadata": {},
   "outputs": [],
   "source": []
  }
 ],
 "metadata": {
  "kernelspec": {
   "display_name": "Python 3",
   "language": "python",
   "name": "python3"
  },
  "language_info": {
   "codemirror_mode": {
    "name": "ipython",
    "version": 3
   },
   "file_extension": ".py",
   "mimetype": "text/x-python",
   "name": "python",
   "nbconvert_exporter": "python",
   "pygments_lexer": "ipython3",
   "version": "3.6.7"
  }
 },
 "nbformat": 4,
 "nbformat_minor": 5
}
