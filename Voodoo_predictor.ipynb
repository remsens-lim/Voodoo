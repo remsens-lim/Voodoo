{
 "cells": [
  {
   "cell_type": "code",
   "execution_count": 1,
   "id": "8853083b",
   "metadata": {},
   "outputs": [],
   "source": [
    "import os\n",
    "import warnings\n",
    "import pprint\n",
    "\n",
    "import xarray as xr\n",
    "import numpy as np\n",
    "import toml\n",
    "import torch\n",
    "from scipy.ndimage import gaussian_filter, gaussian_filter1d\n",
    "\n",
    "import libVoodoo.TorchModel as TM\n",
    "import libVoodoo.Loader as Loader\n",
    "\n",
    "import matplotlib\n",
    "import matplotlib.pyplot as plt\n",
    "import matplotlib.dates as mdates\n",
    "from matplotlib.colors import ListedColormap, LogNorm\n",
    "%matplotlib inline\n",
    "\n",
    "warnings.filterwarnings(\"ignore\")\n",
    "\n",
    "p = 0.4\n",
    "model_setup_file = f'VnetSettings-1.toml'\n",
    "torch_settings = toml.load(os.path.join(model_setup_file))['pytorch']"
   ]
  },
  {
   "cell_type": "code",
   "execution_count": null,
   "id": "2e7b68e5",
   "metadata": {},
   "outputs": [],
   "source": []
  },
  {
   "cell_type": "code",
   "execution_count": 2,
   "id": "39fea87b",
   "metadata": {},
   "outputs": [],
   "source": [
    "import datetime\n",
    "def dt_to_ts(dt):\n",
    "    \"\"\"datetime to unix timestamp\"\"\"\n",
    "    # return dt.replace(tzinfo=datetime.timezone.utc).timestamp()\n",
    "    return (dt - datetime.datetime(1970, 1, 1)).total_seconds()\n",
    "\n",
    "def get_unixtime(dt64):\n",
    "    return dt64.astype('datetime64[s]').astype('int')\n",
    "\n",
    "def ts_to_dt(ts):\n",
    "    \"\"\"unix timestamp to dt\"\"\"\n",
    "    return datetime.datetime.utcfromtimestamp(ts)\n",
    "\n",
    "def decimalhour2unix(dt, time):\n",
    "    return np.array([x*3600. + dt_to_ts(datetime.datetime(int(dt[:4]), int(dt[4:6]), int(dt[6:]), 0, 0, 0)) for x in time]).astype(int).astype( 'datetime64[s]')\n",
    "\n",
    "def lin2z(array):\n",
    "    \"\"\"linear values to dB (for np.array or single number)\"\"\"\n",
    "    return 10 * np.ma.log10(array)\n",
    "\n",
    "def open_xarray_datasets(path):\n",
    "    import re\n",
    "    ds = xr.open_mfdataset(path, parallel=True, decode_times=False, )\n",
    "    x = re.findall(\"\\d{8}\", path)[0]\n",
    "    # convert time to unix\n",
    "    ds = ds.assign_coords(time = decimalhour2unix(str(x), ds['time'].values))\n",
    "    ds['time'].attrs['units'] = 'UTC'\n",
    "\n",
    "\n",
    "    return ds"
   ]
  },
  {
   "cell_type": "code",
   "execution_count": 3,
   "id": "7df9b677",
   "metadata": {},
   "outputs": [],
   "source": [
    "def VoodooPredictor(X):\n",
    "    \"\"\"\n",
    "    Predict probability disribution over discrete set of 3 classes (dummy, CD, non-CD) .\n",
    "    \n",
    "    Args:\n",
    "        X: list of [256, 6, 1] time spectrograms, dimensitons: (N_Doppler_bins, N_time_steps, N_range_gate)\n",
    "        \n",
    "        \n",
    "    Return:\n",
    "        predicitons: list of predictions \n",
    "    \"\"\"\n",
    "    torch_settings.update({'dev': 'cpu'})\n",
    "    #trained_model = 'Vnet0x60de1687-fnX-gpu0-VN.pt' \n",
    "    trained_model = 'Vnet0x615580bf-fn1-gpu0-VN.pt'\n",
    "\n",
    "    print(f'Loading Vnet model ...... {model_setup_file}')\n",
    "\n",
    "    # (n_samples, n_Doppler_bins, n_time_steps)\n",
    "    X = X[:, :, :, np.newaxis]\n",
    "    X = X.transpose(0, 3, 2, 1)\n",
    "    X_test = torch.Tensor(X)\n",
    "\n",
    "    model = TM.VoodooNet(X_test.shape, 3, **torch_settings)\n",
    "    model.load_state_dict(torch.load(trained_model, map_location=model.device)['state_dict'])\n",
    "\n",
    "    prediction = model.predict(X_test, batch_size=256)\n",
    "    prediction = prediction.to('cpu')\n",
    "    return prediction"
   ]
  },
  {
   "cell_type": "code",
   "execution_count": null,
   "id": "e18eacfe",
   "metadata": {},
   "outputs": [],
   "source": []
  },
  {
   "cell_type": "markdown",
   "id": "9df63562",
   "metadata": {},
   "source": [
    "# RPG-FMCW94 test"
   ]
  },
  {
   "cell_type": "code",
   "execution_count": 4,
   "id": "ee6405d4",
   "metadata": {},
   "outputs": [
    {
     "data": {
      "text/plain": [
       "dict_keys(['Time', 'MSec', 'QF', 'RR', 'RelHum', 'EnvTemp', 'BaroP', 'WS', 'WD', 'DDVolt', 'DDTb', 'LWP', 'PowIF', 'Elev', 'Azi', 'Status', 'TransPow', 'TransT', 'RecT', 'PCT', 'TotSpec', 'SLv', 'TotNoisePow', 'HSpec', 'ReVHSpec', 'ImVHSpec', 'SLh', 'HNoisePow'])"
      ]
     },
     "execution_count": 4,
     "metadata": {},
     "output_type": "execute_result"
    }
   ],
   "source": [
    "from rpgpy import read_rpg\n",
    "from rpgpy.spcutil import spectra2moments\n",
    "\n",
    "data_path = 'example_data/RPG-FMCW94/'\n",
    "#file_name = '190801_060001_P05_ZEN.LV0'\n",
    "file_name = '181210_040003_P03_ZEN.LV0'\n",
    "cat_file_name = f'20{file_name[:6]}-punta-arenas-categorize-limrad94.nc'\n",
    "rpg_lv0_header, rpg_lv0_data = read_rpg(data_path+file_name)\n",
    "rpg_lv0_data.keys()\n"
   ]
  },
  {
   "cell_type": "code",
   "execution_count": 5,
   "id": "8fd9b2f5",
   "metadata": {},
   "outputs": [],
   "source": [
    "moments = spectra2moments(rpg_lv0_data, rpg_lv0_header)"
   ]
  },
  {
   "cell_type": "code",
   "execution_count": null,
   "id": "af42bbf8",
   "metadata": {},
   "outputs": [],
   "source": []
  },
  {
   "cell_type": "code",
   "execution_count": 6,
   "id": "46a7d983",
   "metadata": {},
   "outputs": [],
   "source": [
    "# replace fill values\n",
    "nonzeros_spectra = rpg_lv0_data['TotSpec'] > 0.0\n",
    "rpg_spectra_vh = Loader.replace_fill_value(rpg_lv0_data['TotSpec'], rpg_lv0_data['SLv'])\n",
    "rpg_spectra_h = Loader.replace_fill_value(rpg_lv0_data['HSpec'], rpg_lv0_data['SLh'])"
   ]
  },
  {
   "cell_type": "code",
   "execution_count": null,
   "id": "2ce679fa",
   "metadata": {},
   "outputs": [],
   "source": []
  },
  {
   "cell_type": "code",
   "execution_count": 7,
   "id": "f233595b",
   "metadata": {},
   "outputs": [],
   "source": [
    "# time since 2001-01-01 to UNIX to numpy.datetime64\n",
    "ts_list = rpg_lv0_data['Time'] + dt_to_ts(datetime.datetime(2001, 1, 1))\n",
    "dt_list = [ts_to_dt(ts) for ts in ts_list]\n",
    "np_dt_list = np.array([np.datetime64(ts,'s') for ts in dt_list])\n",
    "t0_radar, t1_radar = np_dt_list[0], np_dt_list[-1]"
   ]
  },
  {
   "cell_type": "code",
   "execution_count": null,
   "id": "067ba792",
   "metadata": {},
   "outputs": [],
   "source": []
  },
  {
   "cell_type": "code",
   "execution_count": 8,
   "id": "3ec736f3",
   "metadata": {},
   "outputs": [],
   "source": [
    "# input categorize data\n",
    "# slice clounet categorize file \n",
    "cn_data = open_xarray_datasets(data_path+cat_file_name)\n",
    "cn_data = cn_data.sel(time=slice(t0_radar, t1_radar))\n",
    "\n",
    "ts_main = [get_unixtime(ts.values) for ts in cn_data['time']]\n",
    "    \n",
    "# preprocess spectra, create time-spectrograms\n",
    "interp_var, interp_mask = Loader.hyperspectralimage(\n",
    "    ts_list, # radar time resolution\n",
    "    rpg_spectra_vh, # vertica+horizontal spectra\n",
    "    rpg_spectra_h, # horizontal spectra\n",
    "    nonzeros_spectra, # nonzero mask of spectra\n",
    "    6, # number of time steps used for time spectrogram\n",
    "    ts_main # target time resolution\n",
    ")\n",
    "\n",
    "nonzeros_mask = (interp_mask.any(axis=3)).any(axis=2)"
   ]
  },
  {
   "cell_type": "code",
   "execution_count": null,
   "id": "95ee82de",
   "metadata": {},
   "outputs": [],
   "source": []
  },
  {
   "cell_type": "code",
   "execution_count": null,
   "id": "69f2e1b7",
   "metadata": {},
   "outputs": [],
   "source": [
    "# create feature list\n",
    "spectra_list = []\n",
    "for ind_t in range(nonzeros_mask.shape[0]):\n",
    "    for ind_h in range(nonzeros_mask.shape[1]):\n",
    "        if nonzeros_mask[ind_t, ind_h]:\n",
    "            spectra_list.append(interp_var[ind_t, ind_h, :, :, 0])\n",
    "            \n",
    "spectra_list = np.array(spectra_list)\n",
    "spectra_list = lin2z(spectra_list) "
   ]
  },
  {
   "cell_type": "code",
   "execution_count": null,
   "id": "3defec29",
   "metadata": {},
   "outputs": [],
   "source": [
    "# normalize features between 0 and 1\n",
    "Z_min, Z_max = -50, 20\n",
    "X = (spectra_list - Z_min) / (Z_max - Z_min)"
   ]
  },
  {
   "cell_type": "code",
   "execution_count": null,
   "id": "7d0bf4e7",
   "metadata": {},
   "outputs": [],
   "source": []
  },
  {
   "cell_type": "code",
   "execution_count": null,
   "id": "da9900be",
   "metadata": {},
   "outputs": [],
   "source": []
  },
  {
   "cell_type": "code",
   "execution_count": null,
   "id": "267ab06d",
   "metadata": {
    "scrolled": true
   },
   "outputs": [
    {
     "name": "stdout",
     "output_type": "stream",
     "text": [
      "Loading Vnet model ...... VnetSettings-1.toml\n"
     ]
    },
    {
     "data": {
      "application/vnd.jupyter.widget-view+json": {
       "model_id": "a6c79745536e46d6827a2532adb01b3b",
       "version_major": 2,
       "version_minor": 0
      },
      "text/plain": [
       "HBox(children=(IntProgress(value=0, layout=Layout(flex='2'), max=109), HTML(value='')), layout=Layout(display=…"
      ]
     },
     "metadata": {},
     "output_type": "display_data"
    },
    {
     "name": "stdout",
     "output_type": "stream",
     "text": [
      "\n"
     ]
    }
   ],
   "source": [
    "# inference mode\n",
    "prediction = VoodooPredictor(X)"
   ]
  },
  {
   "cell_type": "code",
   "execution_count": null,
   "id": "5f08a5a0",
   "metadata": {},
   "outputs": [
    {
     "name": "stdout",
     "output_type": "stream",
     "text": [
      "probability for CD = 0.203\n",
      "-0.23965192 0.72993124\n"
     ]
    },
    {
     "data": {
      "image/png": "[encoded data removed]",
      "text/plain": [
       "<Figure size 432x288 with 1 Axes>"
      ]
     },
     "metadata": {
      "needs_background": "light"
     },
     "output_type": "display_data"
    }
   ],
   "source": [
    "# plot example spectrum\n",
    "plt.pcolormesh(X[1390, :, :].T)\n",
    "print(f'probability for CD = {prediction[1390, 1]:.3f}')\n",
    "print(X.min(), X.max())"
   ]
  },
  {
   "cell_type": "code",
   "execution_count": null,
   "id": "9431364e",
   "metadata": {},
   "outputs": [],
   "source": []
  },
  {
   "cell_type": "code",
   "execution_count": null,
   "id": "91e24e25",
   "metadata": {},
   "outputs": [],
   "source": [
    "# smooth predictions\n",
    "prediction_smoothed = np.zeros((nonzeros_mask.shape)+(prediction.shape[1],))\n",
    "for i in range(prediction.shape[1]):\n",
    "    _tmp = TM.VoodooNet.reshape(prediction[:, i], ~nonzeros_mask)\n",
    "    _tmp = gaussian_filter(_tmp, sigma=1)\n",
    "    prediction_smoothed[:, :, i] = np.ma.masked_where(~nonzeros_mask, _tmp)\n",
    "    \n"
   ]
  },
  {
   "cell_type": "code",
   "execution_count": null,
   "id": "5bf1c9c2",
   "metadata": {},
   "outputs": [],
   "source": [
    "# add new data array to data set\n",
    "cn_data['voodoo'] = cn_data['v'].copy()\n",
    "cn_data['voodoo'].attrs.update({\n",
    "    'units': '1', \n",
    "    'long_name': 'probability for cloud droplets', \n",
    "    'comment': 'Voodoo retrieval output'\n",
    "})\n",
    "cn_data['voodoo'].values = prediction_smoothed[:, :, 1]"
   ]
  },
  {
   "cell_type": "code",
   "execution_count": null,
   "id": "ae6cb434",
   "metadata": {},
   "outputs": [],
   "source": [
    "# Voodoo cloud droplet likelyhood colorbar (viridis + grey below minimum value)\n",
    "from matplotlib import cm\n",
    "viridis = cm.get_cmap('viridis', 8)\n",
    "newcolors = viridis(np.linspace(0, 1, 256))\n",
    "newcolors[:1, :] = np.array([220/256, 220/256, 220/256, 1])\n",
    "p_cmap = ListedColormap(newcolors)\n",
    "\n"
   ]
  },
  {
   "cell_type": "code",
   "execution_count": null,
   "id": "85e9d3f0",
   "metadata": {},
   "outputs": [],
   "source": []
  },
  {
   "cell_type": "code",
   "execution_count": null,
   "id": "12aa5c69",
   "metadata": {},
   "outputs": [],
   "source": [
    "# quicklook Ze, beta, P(CD)\n",
    "with plt.style.context(['science', 'ieee']):\n",
    "    fig, ax = plt.subplots(ncols=3, figsize=(14,3))\n",
    "\n",
    "    cn_data['Z'].values = np.ma.masked_where(~nonzeros_mask, cn_data['Z'])\n",
    "    cn_data['Z'].T.plot(vmin=Z_min, vmax=Z_max, cmap='jet', ax=ax[0])\n",
    "    \n",
    "    cn_data['beta'].values = np.ma.masked_where(cn_data['beta']>1.0e-4, cn_data['beta'])\n",
    "    cn_data['beta'].T.plot(norm = LogNorm(vmin=1.0e-7, vmax=1.0e-4), cmap='jet', ax=ax[1])\n",
    "    \n",
    "    cn_data['voodoo'].values = np.ma.masked_where(~nonzeros_mask, prediction_smoothed[:, :, 1])\n",
    "    cn_data['voodoo'].T.plot(vmin=p, vmax=1, cmap=p_cmap, ax=ax[2])\n",
    "    \n",
    "    for iax in ax:\n",
    "        iax.set_ylim((0,6000))\n",
    "        iax.xaxis.set_major_formatter(mdates.DateFormatter('%H:%M'))\n",
    "    \n",
    "    fig.subplots_adjust(wspace=0.3)"
   ]
  },
  {
   "cell_type": "code",
   "execution_count": null,
   "id": "7554257e",
   "metadata": {
    "scrolled": true
   },
   "outputs": [],
   "source": []
  }
 ],
 "metadata": {
  "kernelspec": {
   "display_name": "Python 3",
   "language": "python",
   "name": "python3"
  },
  "language_info": {
   "codemirror_mode": {
    "name": "ipython",
    "version": 3
   },
   "file_extension": ".py",
   "mimetype": "text/x-python",
   "name": "python",
   "nbconvert_exporter": "python",
   "pygments_lexer": "ipython3",
   "version": "3.6.7"
  }
 },
 "nbformat": 4,
 "nbformat_minor": 5
}
